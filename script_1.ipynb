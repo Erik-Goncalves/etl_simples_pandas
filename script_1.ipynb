{
 "cells": [
  {
   "cell_type": "markdown",
   "metadata": {},
   "source": [
    "Importar biblioteca pandas que segue o modelo excel dentro do python."
   ]
  },
  {
   "cell_type": "code",
   "execution_count": 8,
   "metadata": {},
   "outputs": [],
   "source": [
    "import pandas as pd"
   ]
  },
  {
   "cell_type": "markdown",
   "metadata": {},
   "source": [
    "Upload do arquivo excel para iniciar o processo."
   ]
  },
  {
   "cell_type": "code",
   "execution_count": 9,
   "metadata": {},
   "outputs": [
    {
     "name": "stdout",
     "output_type": "stream",
     "text": [
      "Wall time: 0 ns\n"
     ]
    }
   ],
   "source": [
    "%time\n",
    "tabela_original_df = pd.read_excel('tabela_original.xlsx')"
   ]
  },
  {
   "cell_type": "markdown",
   "metadata": {},
   "source": [
    "Validação das colunas de entrada, buscar campos vazios."
   ]
  },
  {
   "cell_type": "code",
   "execution_count": 10,
   "metadata": {},
   "outputs": [
    {
     "data": {
      "text/html": [
       "<div>\n",
       "<style scoped>\n",
       "    .dataframe tbody tr th:only-of-type {\n",
       "        vertical-align: middle;\n",
       "    }\n",
       "\n",
       "    .dataframe tbody tr th {\n",
       "        vertical-align: top;\n",
       "    }\n",
       "\n",
       "    .dataframe thead th {\n",
       "        text-align: right;\n",
       "    }\n",
       "</style>\n",
       "<table border=\"1\" class=\"dataframe\">\n",
       "  <thead>\n",
       "    <tr style=\"text-align: right;\">\n",
       "      <th></th>\n",
       "      <th>codigo</th>\n",
       "      <th>produto</th>\n",
       "      <th>codigo sap</th>\n",
       "    </tr>\n",
       "  </thead>\n",
       "  <tbody>\n",
       "  </tbody>\n",
       "</table>\n",
       "</div>"
      ],
      "text/plain": [
       "Empty DataFrame\n",
       "Columns: [codigo, produto, codigo sap]\n",
       "Index: []"
      ]
     },
     "execution_count": 10,
     "metadata": {},
     "output_type": "execute_result"
    }
   ],
   "source": [
    "tabela_original_df[tabela_original_df['produto'].isnull()].head()"
   ]
  },
  {
   "cell_type": "markdown",
   "metadata": {},
   "source": [
    "Cria uma nova coluna concatenando os campos material e codigo sap."
   ]
  },
  {
   "cell_type": "code",
   "execution_count": 11,
   "metadata": {},
   "outputs": [
    {
     "data": {
      "text/html": [
       "<div>\n",
       "<style scoped>\n",
       "    .dataframe tbody tr th:only-of-type {\n",
       "        vertical-align: middle;\n",
       "    }\n",
       "\n",
       "    .dataframe tbody tr th {\n",
       "        vertical-align: top;\n",
       "    }\n",
       "\n",
       "    .dataframe thead th {\n",
       "        text-align: right;\n",
       "    }\n",
       "</style>\n",
       "<table border=\"1\" class=\"dataframe\">\n",
       "  <thead>\n",
       "    <tr style=\"text-align: right;\">\n",
       "      <th></th>\n",
       "      <th>codigo</th>\n",
       "      <th>produto</th>\n",
       "      <th>codigo sap</th>\n",
       "      <th>descricao_concat</th>\n",
       "    </tr>\n",
       "  </thead>\n",
       "  <tbody>\n",
       "    <tr>\n",
       "      <th>0</th>\n",
       "      <td>07</td>\n",
       "      <td>1</td>\n",
       "      <td>A</td>\n",
       "      <td>1 A</td>\n",
       "    </tr>\n",
       "    <tr>\n",
       "      <th>1</th>\n",
       "      <td>F5</td>\n",
       "      <td>2</td>\n",
       "      <td>B</td>\n",
       "      <td>2 B</td>\n",
       "    </tr>\n",
       "    <tr>\n",
       "      <th>2</th>\n",
       "      <td>0</td>\n",
       "      <td>3</td>\n",
       "      <td>C</td>\n",
       "      <td>3 C</td>\n",
       "    </tr>\n",
       "    <tr>\n",
       "      <th>3</th>\n",
       "      <td>43</td>\n",
       "      <td>4</td>\n",
       "      <td>D</td>\n",
       "      <td>4 D</td>\n",
       "    </tr>\n",
       "  </tbody>\n",
       "</table>\n",
       "</div>"
      ],
      "text/plain": [
       "  codigo  produto codigo sap descricao_concat\n",
       "0     07        1          A              1 A\n",
       "1     F5        2          B              2 B\n",
       "2      0        3          C              3 C\n",
       "3     43        4          D              4 D"
      ]
     },
     "execution_count": 11,
     "metadata": {},
     "output_type": "execute_result"
    }
   ],
   "source": [
    "tabela_original_df['descricao_concat'] = tabela_original_df['produto'].map(str) +' '+ tabela_original_df['codigo sap'].map(str)\n",
    "tabela_original_df.head(4)"
   ]
  },
  {
   "cell_type": "markdown",
   "metadata": {},
   "source": [
    "Cria uma nova coluna com base na analise de codigo original."
   ]
  },
  {
   "cell_type": "code",
   "execution_count": 14,
   "metadata": {},
   "outputs": [],
   "source": [
    "tabela_original_df.loc[tabela_original_df['codigo'].map(str) == '07', 'codigo_atualizado'] = '60M'\n",
    "tabela_original_df.loc[tabela_original_df['codigo'].map(str) == 'F5', 'codigo_atualizado'] = 'BBM'\n",
    "tabela_original_df.loc[tabela_original_df['codigo'].map(str) == '0', 'codigo_atualizado'] = ''\n",
    "tabela_original_df.loc[tabela_original_df['codigo'].map(str) == '43', 'codigo_atualizado'] = '40kg'"
   ]
  },
  {
   "cell_type": "markdown",
   "metadata": {},
   "source": [
    "Display simples para conferencia da tabela."
   ]
  },
  {
   "cell_type": "code",
   "execution_count": 15,
   "metadata": {},
   "outputs": [
    {
     "data": {
      "text/html": [
       "<div>\n",
       "<style scoped>\n",
       "    .dataframe tbody tr th:only-of-type {\n",
       "        vertical-align: middle;\n",
       "    }\n",
       "\n",
       "    .dataframe tbody tr th {\n",
       "        vertical-align: top;\n",
       "    }\n",
       "\n",
       "    .dataframe thead th {\n",
       "        text-align: right;\n",
       "    }\n",
       "</style>\n",
       "<table border=\"1\" class=\"dataframe\">\n",
       "  <thead>\n",
       "    <tr style=\"text-align: right;\">\n",
       "      <th></th>\n",
       "      <th>codigo</th>\n",
       "      <th>produto</th>\n",
       "      <th>codigo sap</th>\n",
       "      <th>descricao_concat</th>\n",
       "      <th>codigo_atualizado</th>\n",
       "    </tr>\n",
       "  </thead>\n",
       "  <tbody>\n",
       "    <tr>\n",
       "      <th>0</th>\n",
       "      <td>07</td>\n",
       "      <td>1</td>\n",
       "      <td>A</td>\n",
       "      <td>1 A</td>\n",
       "      <td>60M</td>\n",
       "    </tr>\n",
       "    <tr>\n",
       "      <th>1</th>\n",
       "      <td>F5</td>\n",
       "      <td>2</td>\n",
       "      <td>B</td>\n",
       "      <td>2 B</td>\n",
       "      <td>BBM</td>\n",
       "    </tr>\n",
       "    <tr>\n",
       "      <th>2</th>\n",
       "      <td>0</td>\n",
       "      <td>3</td>\n",
       "      <td>C</td>\n",
       "      <td>3 C</td>\n",
       "      <td></td>\n",
       "    </tr>\n",
       "    <tr>\n",
       "      <th>3</th>\n",
       "      <td>43</td>\n",
       "      <td>4</td>\n",
       "      <td>D</td>\n",
       "      <td>4 D</td>\n",
       "      <td>40kg</td>\n",
       "    </tr>\n",
       "    <tr>\n",
       "      <th>4</th>\n",
       "      <td>07</td>\n",
       "      <td>1</td>\n",
       "      <td>A</td>\n",
       "      <td>1 A</td>\n",
       "      <td>60M</td>\n",
       "    </tr>\n",
       "    <tr>\n",
       "      <th>5</th>\n",
       "      <td>07</td>\n",
       "      <td>1</td>\n",
       "      <td>A</td>\n",
       "      <td>1 A</td>\n",
       "      <td>60M</td>\n",
       "    </tr>\n",
       "    <tr>\n",
       "      <th>6</th>\n",
       "      <td>07</td>\n",
       "      <td>1</td>\n",
       "      <td>A</td>\n",
       "      <td>1 A</td>\n",
       "      <td>60M</td>\n",
       "    </tr>\n",
       "    <tr>\n",
       "      <th>7</th>\n",
       "      <td>07</td>\n",
       "      <td>1</td>\n",
       "      <td>A</td>\n",
       "      <td>1 A</td>\n",
       "      <td>60M</td>\n",
       "    </tr>\n",
       "    <tr>\n",
       "      <th>8</th>\n",
       "      <td>07</td>\n",
       "      <td>1</td>\n",
       "      <td>A</td>\n",
       "      <td>1 A</td>\n",
       "      <td>60M</td>\n",
       "    </tr>\n",
       "    <tr>\n",
       "      <th>9</th>\n",
       "      <td>07</td>\n",
       "      <td>1</td>\n",
       "      <td>A</td>\n",
       "      <td>1 A</td>\n",
       "      <td>60M</td>\n",
       "    </tr>\n",
       "    <tr>\n",
       "      <th>10</th>\n",
       "      <td>1</td>\n",
       "      <td>6</td>\n",
       "      <td>D</td>\n",
       "      <td>6 D</td>\n",
       "      <td>NaN</td>\n",
       "    </tr>\n",
       "    <tr>\n",
       "      <th>11</th>\n",
       "      <td>07</td>\n",
       "      <td>1</td>\n",
       "      <td>A</td>\n",
       "      <td>1 A</td>\n",
       "      <td>60M</td>\n",
       "    </tr>\n",
       "    <tr>\n",
       "      <th>12</th>\n",
       "      <td>F5</td>\n",
       "      <td>2</td>\n",
       "      <td>B</td>\n",
       "      <td>2 B</td>\n",
       "      <td>BBM</td>\n",
       "    </tr>\n",
       "    <tr>\n",
       "      <th>13</th>\n",
       "      <td>0</td>\n",
       "      <td>3</td>\n",
       "      <td>C</td>\n",
       "      <td>3 C</td>\n",
       "      <td></td>\n",
       "    </tr>\n",
       "    <tr>\n",
       "      <th>14</th>\n",
       "      <td>43</td>\n",
       "      <td>4</td>\n",
       "      <td>D</td>\n",
       "      <td>4 D</td>\n",
       "      <td>40kg</td>\n",
       "    </tr>\n",
       "    <tr>\n",
       "      <th>15</th>\n",
       "      <td>07</td>\n",
       "      <td>1</td>\n",
       "      <td>A</td>\n",
       "      <td>1 A</td>\n",
       "      <td>60M</td>\n",
       "    </tr>\n",
       "    <tr>\n",
       "      <th>16</th>\n",
       "      <td>07</td>\n",
       "      <td>1</td>\n",
       "      <td>A</td>\n",
       "      <td>1 A</td>\n",
       "      <td>60M</td>\n",
       "    </tr>\n",
       "    <tr>\n",
       "      <th>17</th>\n",
       "      <td>07</td>\n",
       "      <td>1</td>\n",
       "      <td>A</td>\n",
       "      <td>1 A</td>\n",
       "      <td>60M</td>\n",
       "    </tr>\n",
       "    <tr>\n",
       "      <th>18</th>\n",
       "      <td>07</td>\n",
       "      <td>1</td>\n",
       "      <td>A</td>\n",
       "      <td>1 A</td>\n",
       "      <td>60M</td>\n",
       "    </tr>\n",
       "    <tr>\n",
       "      <th>19</th>\n",
       "      <td>07</td>\n",
       "      <td>1</td>\n",
       "      <td>A</td>\n",
       "      <td>1 A</td>\n",
       "      <td>60M</td>\n",
       "    </tr>\n",
       "    <tr>\n",
       "      <th>20</th>\n",
       "      <td>07</td>\n",
       "      <td>1</td>\n",
       "      <td>A</td>\n",
       "      <td>1 A</td>\n",
       "      <td>60M</td>\n",
       "    </tr>\n",
       "    <tr>\n",
       "      <th>21</th>\n",
       "      <td>1</td>\n",
       "      <td>6</td>\n",
       "      <td>D</td>\n",
       "      <td>6 D</td>\n",
       "      <td>NaN</td>\n",
       "    </tr>\n",
       "  </tbody>\n",
       "</table>\n",
       "</div>"
      ],
      "text/plain": [
       "   codigo  produto codigo sap descricao_concat codigo_atualizado\n",
       "0      07        1          A              1 A               60M\n",
       "1      F5        2          B              2 B               BBM\n",
       "2       0        3          C              3 C                  \n",
       "3      43        4          D              4 D              40kg\n",
       "4      07        1          A              1 A               60M\n",
       "5      07        1          A              1 A               60M\n",
       "6      07        1          A              1 A               60M\n",
       "7      07        1          A              1 A               60M\n",
       "8      07        1          A              1 A               60M\n",
       "9      07        1          A              1 A               60M\n",
       "10      1        6          D              6 D               NaN\n",
       "11     07        1          A              1 A               60M\n",
       "12     F5        2          B              2 B               BBM\n",
       "13      0        3          C              3 C                  \n",
       "14     43        4          D              4 D              40kg\n",
       "15     07        1          A              1 A               60M\n",
       "16     07        1          A              1 A               60M\n",
       "17     07        1          A              1 A               60M\n",
       "18     07        1          A              1 A               60M\n",
       "19     07        1          A              1 A               60M\n",
       "20     07        1          A              1 A               60M\n",
       "21      1        6          D              6 D               NaN"
      ]
     },
     "metadata": {},
     "output_type": "display_data"
    }
   ],
   "source": [
    "display(tabela_original_df)"
   ]
  },
  {
   "cell_type": "markdown",
   "metadata": {},
   "source": [
    "Export em um novo excel com os tratamentos realizados"
   ]
  },
  {
   "cell_type": "code",
   "execution_count": 16,
   "metadata": {},
   "outputs": [],
   "source": [
    "tabela_original_df.to_excel(r'tabela _atualizado.xlsx', index = False)"
   ]
  },
  {
   "cell_type": "code",
   "execution_count": null,
   "metadata": {},
   "outputs": [],
   "source": []
  }
 ],
 "metadata": {
  "kernelspec": {
   "display_name": "Python 3",
   "language": "python",
   "name": "python3"
  },
  "language_info": {
   "codemirror_mode": {
    "name": "ipython",
    "version": 3
   },
   "file_extension": ".py",
   "mimetype": "text/x-python",
   "name": "python",
   "nbconvert_exporter": "python",
   "pygments_lexer": "ipython3",
   "version": "3.8.5"
  }
 },
 "nbformat": 4,
 "nbformat_minor": 4
}
